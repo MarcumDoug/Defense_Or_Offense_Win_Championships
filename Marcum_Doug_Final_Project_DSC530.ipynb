{
 "cells": [
  {
   "cell_type": "markdown",
   "metadata": {},
   "source": [
    "**Doug Marcum  \n",
    "DSC 530 - Final Project: Does defense win championships? A look at the NBA from 2009 – 2019  \n",
    "2/29/2020**"
   ]
  },
  {
   "cell_type": "markdown",
   "metadata": {},
   "source": [
    "## Introduction  \n",
    "For this term project, an evaluation of defensive importance within the National Basketball Association (NBA) will be conducted, to determine if the adage of ‘Defense Wins Championships!’ remains accurate in today’s game. Since sports have been played and a score kept, there have been coaches, sideline parents, armchair experts, and others declaring the importance of defense. While defense is an integral part of most team-oriented sports, is it the most important aspect of winning? Does the best defense have a better chance at winning a championship in comparison to the best offense? \n",
    "\n",
    "Many modern professional leagues have adapted over time to account for player safety, obtaining higher viewership/ratings, fan interest in higher scoring games, and shortened attention spans. By doing so, gameplay has also changed from era to era. Athletes have increased in size and ability, creating discrepancies in performance when comparing eras. Taking into consideration these variations, the focus will be on the past decade (2009 – 2019) for evaluation. With many professional leagues to choose from, it is believed the NBA provides some of the best data to capture and analyze. When evaluating the three major professional sports in the US, Major League Baseball and the National Football League were eliminated based on the following:\n",
    "\n",
    "1. National Football League – While defense plays a very vital role in football, it is one of three teams taking the field at any given point. Being broken into camps of offense, special teams, and defense, to state that one is more important than the other takes away from the value provided by the other two units.  \n",
    "2. Major League Baseball – Baseball is a one-on-one sport wrapped in the disguise of a team-oriented sport. Much like football, many aspects of baseball can be broken into team or individual elements. With basketball, pace of play is high and engagement in both offense and defense is required. \n"
   ]
  },
  {
   "cell_type": "markdown",
   "metadata": {},
   "source": [
    "## Import Necessary Libraries"
   ]
  },
  {
   "cell_type": "code",
   "execution_count": 1,
   "metadata": {},
   "outputs": [],
   "source": [
    "from __future__ import print_function, division\n",
    "\n",
    "import matplotlib.pyplot as plt\n",
    "%matplotlib inline\n",
    "\n",
    "import numpy as np\n",
    "import pandas as pd\n",
    "import seaborn as sns\n",
    "\n",
    "import thinkstats2\n",
    "import thinkplot\n",
    "\n",
    "from scipy.stats import pearsonr\n",
    "from scipy.stats import spearmanr\n",
    "\n",
    "import statsmodels.formula.api as smf"
   ]
  },
  {
   "cell_type": "markdown",
   "metadata": {},
   "source": [
    "## Data  \n",
    "\n",
    "The data for this project was obtained from [Basketball-Reference.Com](https://www.basketball-reference.com) (BRC). Each [season](https://www.basketball-reference.com/leagues/) was downloaded and saved to a CSV file. This was the simplest approach taken, due to time constraints. By doing so, the data files from BRC we evaluated and did not require additional data cleansing. A focus was placed on more advanced metrics being utilized by the NBA in determining the importance of defense in today's game. \n",
    "\n",
    "A [Glossary of Terms](https://www.basketball-reference.com/about/glossary.html) can help expand on any variables this project does or does not utilize."
   ]
  },
  {
   "cell_type": "code",
   "execution_count": 2,
   "metadata": {},
   "outputs": [],
   "source": [
    "data = pd.read_csv('2010_to_2019_NBA_Team_Stats.csv')"
   ]
  },
  {
   "cell_type": "code",
   "execution_count": 3,
   "metadata": {},
   "outputs": [
    {
     "data": {
      "text/html": [
       "<div>\n",
       "<style scoped>\n",
       "    .dataframe tbody tr th:only-of-type {\n",
       "        vertical-align: middle;\n",
       "    }\n",
       "\n",
       "    .dataframe tbody tr th {\n",
       "        vertical-align: top;\n",
       "    }\n",
       "\n",
       "    .dataframe thead th {\n",
       "        text-align: right;\n",
       "    }\n",
       "</style>\n",
       "<table border=\"1\" class=\"dataframe\">\n",
       "  <thead>\n",
       "    <tr style=\"text-align: right;\">\n",
       "      <th></th>\n",
       "      <th>Season</th>\n",
       "      <th>Team</th>\n",
       "      <th>Age</th>\n",
       "      <th>W</th>\n",
       "      <th>L</th>\n",
       "      <th>Playoff</th>\n",
       "      <th>Champion</th>\n",
       "      <th>PW</th>\n",
       "      <th>PL</th>\n",
       "      <th>MOV</th>\n",
       "      <th>...</th>\n",
       "      <th>3PAr</th>\n",
       "      <th>TS%</th>\n",
       "      <th>eFG%</th>\n",
       "      <th>TOV%</th>\n",
       "      <th>ORB%</th>\n",
       "      <th>FT/FGA</th>\n",
       "      <th>eFG%.1</th>\n",
       "      <th>TOV%.1</th>\n",
       "      <th>DRB%</th>\n",
       "      <th>FT/FGA.1</th>\n",
       "    </tr>\n",
       "  </thead>\n",
       "  <tbody>\n",
       "    <tr>\n",
       "      <td>0</td>\n",
       "      <td>2019</td>\n",
       "      <td>Cleveland Cavaliers</td>\n",
       "      <td>25.2</td>\n",
       "      <td>19</td>\n",
       "      <td>63</td>\n",
       "      <td>0</td>\n",
       "      <td>0</td>\n",
       "      <td>19</td>\n",
       "      <td>63</td>\n",
       "      <td>-9.61</td>\n",
       "      <td>...</td>\n",
       "      <td>0.332</td>\n",
       "      <td>0.540</td>\n",
       "      <td>0.503</td>\n",
       "      <td>12.2</td>\n",
       "      <td>23.7</td>\n",
       "      <td>0.187</td>\n",
       "      <td>0.564</td>\n",
       "      <td>11.5</td>\n",
       "      <td>77.0</td>\n",
       "      <td>0.181</td>\n",
       "    </tr>\n",
       "    <tr>\n",
       "      <td>1</td>\n",
       "      <td>2019</td>\n",
       "      <td>Phoenix Suns</td>\n",
       "      <td>24.0</td>\n",
       "      <td>19</td>\n",
       "      <td>63</td>\n",
       "      <td>0</td>\n",
       "      <td>0</td>\n",
       "      <td>19</td>\n",
       "      <td>63</td>\n",
       "      <td>-9.34</td>\n",
       "      <td>...</td>\n",
       "      <td>0.335</td>\n",
       "      <td>0.552</td>\n",
       "      <td>0.514</td>\n",
       "      <td>13.8</td>\n",
       "      <td>20.5</td>\n",
       "      <td>0.202</td>\n",
       "      <td>0.545</td>\n",
       "      <td>13.5</td>\n",
       "      <td>72.5</td>\n",
       "      <td>0.236</td>\n",
       "    </tr>\n",
       "    <tr>\n",
       "      <td>2</td>\n",
       "      <td>2018</td>\n",
       "      <td>Golden State Warriors</td>\n",
       "      <td>28.8</td>\n",
       "      <td>58</td>\n",
       "      <td>24</td>\n",
       "      <td>1</td>\n",
       "      <td>1</td>\n",
       "      <td>56</td>\n",
       "      <td>26</td>\n",
       "      <td>5.98</td>\n",
       "      <td>...</td>\n",
       "      <td>0.339</td>\n",
       "      <td>0.603</td>\n",
       "      <td>0.569</td>\n",
       "      <td>14.1</td>\n",
       "      <td>21.0</td>\n",
       "      <td>0.195</td>\n",
       "      <td>0.504</td>\n",
       "      <td>12.6</td>\n",
       "      <td>76.3</td>\n",
       "      <td>0.186</td>\n",
       "    </tr>\n",
       "    <tr>\n",
       "      <td>3</td>\n",
       "      <td>2019</td>\n",
       "      <td>Washington Wizards</td>\n",
       "      <td>26.5</td>\n",
       "      <td>32</td>\n",
       "      <td>50</td>\n",
       "      <td>0</td>\n",
       "      <td>0</td>\n",
       "      <td>34</td>\n",
       "      <td>48</td>\n",
       "      <td>-2.90</td>\n",
       "      <td>...</td>\n",
       "      <td>0.370</td>\n",
       "      <td>0.567</td>\n",
       "      <td>0.531</td>\n",
       "      <td>12.3</td>\n",
       "      <td>21.3</td>\n",
       "      <td>0.204</td>\n",
       "      <td>0.546</td>\n",
       "      <td>13.5</td>\n",
       "      <td>74.1</td>\n",
       "      <td>0.199</td>\n",
       "    </tr>\n",
       "    <tr>\n",
       "      <td>4</td>\n",
       "      <td>2019</td>\n",
       "      <td>Atlanta Hawks</td>\n",
       "      <td>25.1</td>\n",
       "      <td>29</td>\n",
       "      <td>53</td>\n",
       "      <td>0</td>\n",
       "      <td>0</td>\n",
       "      <td>27</td>\n",
       "      <td>55</td>\n",
       "      <td>-6.02</td>\n",
       "      <td>...</td>\n",
       "      <td>0.403</td>\n",
       "      <td>0.555</td>\n",
       "      <td>0.522</td>\n",
       "      <td>14.3</td>\n",
       "      <td>24.7</td>\n",
       "      <td>0.192</td>\n",
       "      <td>0.541</td>\n",
       "      <td>12.8</td>\n",
       "      <td>76.4</td>\n",
       "      <td>0.237</td>\n",
       "    </tr>\n",
       "  </tbody>\n",
       "</table>\n",
       "<p>5 rows × 27 columns</p>\n",
       "</div>"
      ],
      "text/plain": [
       "   Season                   Team   Age   W   L  Playoff  Champion  PW  PL  \\\n",
       "0    2019    Cleveland Cavaliers  25.2  19  63        0         0  19  63   \n",
       "1    2019           Phoenix Suns  24.0  19  63        0         0  19  63   \n",
       "2    2018  Golden State Warriors  28.8  58  24        1         1  56  26   \n",
       "3    2019     Washington Wizards  26.5  32  50        0         0  34  48   \n",
       "4    2019          Atlanta Hawks  25.1  29  53        0         0  27  55   \n",
       "\n",
       "    MOV  ...   3PAr    TS%   eFG%  TOV%  ORB%  FT/FGA  eFG%.1  TOV%.1  DRB%  \\\n",
       "0 -9.61  ...  0.332  0.540  0.503  12.2  23.7   0.187   0.564    11.5  77.0   \n",
       "1 -9.34  ...  0.335  0.552  0.514  13.8  20.5   0.202   0.545    13.5  72.5   \n",
       "2  5.98  ...  0.339  0.603  0.569  14.1  21.0   0.195   0.504    12.6  76.3   \n",
       "3 -2.90  ...  0.370  0.567  0.531  12.3  21.3   0.204   0.546    13.5  74.1   \n",
       "4 -6.02  ...  0.403  0.555  0.522  14.3  24.7   0.192   0.541    12.8  76.4   \n",
       "\n",
       "   FT/FGA.1  \n",
       "0     0.181  \n",
       "1     0.236  \n",
       "2     0.186  \n",
       "3     0.199  \n",
       "4     0.237  \n",
       "\n",
       "[5 rows x 27 columns]"
      ]
     },
     "execution_count": 3,
     "metadata": {},
     "output_type": "execute_result"
    }
   ],
   "source": [
    "# quick skim to insure data was loaded properly\n",
    "data.head()"
   ]
  },
  {
   "cell_type": "code",
   "execution_count": 4,
   "metadata": {},
   "outputs": [
    {
     "data": {
      "text/plain": [
       "Index(['Season', 'Team', 'Age', 'W', 'L', 'Playoff', 'Champion', 'PW', 'PL',\n",
       "       'MOV', 'SOS', 'SRS', 'ORtg', 'DRtg', 'NRtg', 'Pace', 'FTr', '3PAr',\n",
       "       'TS%', 'eFG%', 'TOV%', 'ORB%', 'FT/FGA', 'eFG%.1', 'TOV%.1', 'DRB%',\n",
       "       'FT/FGA.1'],\n",
       "      dtype='object')"
      ]
     },
     "execution_count": 4,
     "metadata": {},
     "output_type": "execute_result"
    }
   ],
   "source": [
    "# check each column title\n",
    "data.columns"
   ]
  },
  {
   "cell_type": "code",
   "execution_count": 5,
   "metadata": {},
   "outputs": [
    {
     "data": {
      "text/plain": [
       "Season        int64\n",
       "Team         object\n",
       "Age         float64\n",
       "W             int64\n",
       "L             int64\n",
       "Playoff       int64\n",
       "Champion      int64\n",
       "PW            int64\n",
       "PL            int64\n",
       "MOV         float64\n",
       "SOS         float64\n",
       "SRS         float64\n",
       "ORtg        float64\n",
       "DRtg        float64\n",
       "NRtg        float64\n",
       "Pace        float64\n",
       "FTr         float64\n",
       "3PAr        float64\n",
       "TS%         float64\n",
       "eFG%        float64\n",
       "TOV%        float64\n",
       "ORB%        float64\n",
       "FT/FGA      float64\n",
       "eFG%.1      float64\n",
       "TOV%.1      float64\n",
       "DRB%        float64\n",
       "FT/FGA.1    float64\n",
       "dtype: object"
      ]
     },
     "execution_count": 5,
     "metadata": {},
     "output_type": "execute_result"
    }
   ],
   "source": [
    "# confirm variable types\n",
    "data.dtypes"
   ]
  },
  {
   "cell_type": "code",
   "execution_count": 6,
   "metadata": {},
   "outputs": [],
   "source": [
    "# convert 'Season' to an object from an integer\n",
    "data.Season = data.Season.astype(object)"
   ]
  },
  {
   "cell_type": "markdown",
   "metadata": {},
   "source": [
    "## Variables  \n",
    "\n",
    "Listed below are descriptions of selected variables:\n",
    "1. Season - The season/year the team played in.\n",
    "2. Team - Identifier for the team by City / Name.\n",
    "3. Champion - An integer code for the outcome of the winner of the season. The code 1 indicates the winner. \n",
    "4. Playoffs - An integer code for teams in the playoffs in each season. The code 1 indicates a playoff participant. \n",
    "5. Wins - The number of wins a team had in each season.\n",
    "6. SRS - Simple Rating System: a rating that takes into account average point differential and strength of schedule. The rating is denominated in points above/below average, where zero is average.\n",
    "7. ORtg - Offensive Rating: for teams it is points scored per 100 possessions (higher rating is better).\n",
    "8. DRtg - Defensive Rating: for teams it is points allowed per 100 possessions (lower rating is better).\n",
    "9. Pace - Pace Factor: the formula is 48 * ((Tm Poss + Opp Poss) / (2 * (Tm MP / 5))). Pace factor is an estimate of the number of possessions per 48 minutes by a team."
   ]
  },
  {
   "cell_type": "code",
   "execution_count": 7,
   "metadata": {},
   "outputs": [
    {
     "data": {
      "text/html": [
       "<div>\n",
       "<style scoped>\n",
       "    .dataframe tbody tr th:only-of-type {\n",
       "        vertical-align: middle;\n",
       "    }\n",
       "\n",
       "    .dataframe tbody tr th {\n",
       "        vertical-align: top;\n",
       "    }\n",
       "\n",
       "    .dataframe thead th {\n",
       "        text-align: right;\n",
       "    }\n",
       "</style>\n",
       "<table border=\"1\" class=\"dataframe\">\n",
       "  <thead>\n",
       "    <tr style=\"text-align: right;\">\n",
       "      <th></th>\n",
       "      <th>Season</th>\n",
       "      <th>Team</th>\n",
       "      <th>Champion</th>\n",
       "      <th>Playoffs</th>\n",
       "      <th>Wins</th>\n",
       "      <th>SRS</th>\n",
       "      <th>ORtg</th>\n",
       "      <th>DRtg</th>\n",
       "      <th>Pace</th>\n",
       "    </tr>\n",
       "  </thead>\n",
       "  <tbody>\n",
       "    <tr>\n",
       "      <td>0</td>\n",
       "      <td>2019</td>\n",
       "      <td>Cleveland Cavaliers</td>\n",
       "      <td>0</td>\n",
       "      <td>0</td>\n",
       "      <td>19</td>\n",
       "      <td>-9.39</td>\n",
       "      <td>107.7</td>\n",
       "      <td>117.6</td>\n",
       "      <td>96.6</td>\n",
       "    </tr>\n",
       "    <tr>\n",
       "      <td>1</td>\n",
       "      <td>2019</td>\n",
       "      <td>Phoenix Suns</td>\n",
       "      <td>0</td>\n",
       "      <td>0</td>\n",
       "      <td>19</td>\n",
       "      <td>-8.61</td>\n",
       "      <td>105.9</td>\n",
       "      <td>115.1</td>\n",
       "      <td>100.5</td>\n",
       "    </tr>\n",
       "    <tr>\n",
       "      <td>2</td>\n",
       "      <td>2018</td>\n",
       "      <td>Golden State Warriors</td>\n",
       "      <td>1</td>\n",
       "      <td>1</td>\n",
       "      <td>58</td>\n",
       "      <td>5.79</td>\n",
       "      <td>113.6</td>\n",
       "      <td>107.6</td>\n",
       "      <td>99.6</td>\n",
       "    </tr>\n",
       "    <tr>\n",
       "      <td>3</td>\n",
       "      <td>2019</td>\n",
       "      <td>Washington Wizards</td>\n",
       "      <td>0</td>\n",
       "      <td>0</td>\n",
       "      <td>32</td>\n",
       "      <td>-3.30</td>\n",
       "      <td>111.1</td>\n",
       "      <td>113.9</td>\n",
       "      <td>101.4</td>\n",
       "    </tr>\n",
       "    <tr>\n",
       "      <td>4</td>\n",
       "      <td>2019</td>\n",
       "      <td>Atlanta Hawks</td>\n",
       "      <td>0</td>\n",
       "      <td>0</td>\n",
       "      <td>29</td>\n",
       "      <td>-6.06</td>\n",
       "      <td>108.1</td>\n",
       "      <td>113.9</td>\n",
       "      <td>103.9</td>\n",
       "    </tr>\n",
       "  </tbody>\n",
       "</table>\n",
       "</div>"
      ],
      "text/plain": [
       "  Season                   Team  Champion  Playoffs  Wins   SRS   ORtg   DRtg  \\\n",
       "0   2019    Cleveland Cavaliers         0         0    19 -9.39  107.7  117.6   \n",
       "1   2019           Phoenix Suns         0         0    19 -8.61  105.9  115.1   \n",
       "2   2018  Golden State Warriors         1         1    58  5.79  113.6  107.6   \n",
       "3   2019     Washington Wizards         0         0    32 -3.30  111.1  113.9   \n",
       "4   2019          Atlanta Hawks         0         0    29 -6.06  108.1  113.9   \n",
       "\n",
       "    Pace  \n",
       "0   96.6  \n",
       "1  100.5  \n",
       "2   99.6  \n",
       "3  101.4  \n",
       "4  103.9  "
      ]
     },
     "execution_count": 7,
     "metadata": {},
     "output_type": "execute_result"
    }
   ],
   "source": [
    "# create new dataframe to simplify the data visually\n",
    "df = pd.DataFrame()\n",
    "df['Season'] = data.Season \n",
    "df['Team'] = data.Team \n",
    "df['Champion'] = data.Champion\n",
    "df['Playoffs'] = data.Playoff\n",
    "df['Wins'] = data.W\n",
    "df['SRS'] = data.SRS\n",
    "df['ORtg'] = data.ORtg\n",
    "df['DRtg'] = data.DRtg\n",
    "df['Pace'] = data.Pace\n",
    "\n",
    "# check to make certain everything is there\n",
    "df.head()"
   ]
  },
  {
   "cell_type": "code",
   "execution_count": 8,
   "metadata": {},
   "outputs": [
    {
     "data": {
      "text/html": [
       "<style  type=\"text/css\" >\n",
       "    #T_9703ad5a_5afe_11ea_bf95_9cebe8a8cd99row0_col0 {\n",
       "            background-color:  #b40426;\n",
       "            color:  #f1f1f1;\n",
       "        }    #T_9703ad5a_5afe_11ea_bf95_9cebe8a8cd99row0_col1 {\n",
       "            background-color:  #dbdcde;\n",
       "            color:  #000000;\n",
       "        }    #T_9703ad5a_5afe_11ea_bf95_9cebe8a8cd99row0_col2 {\n",
       "            background-color:  #ecd3c5;\n",
       "            color:  #000000;\n",
       "        }    #T_9703ad5a_5afe_11ea_bf95_9cebe8a8cd99row0_col3 {\n",
       "            background-color:  #ebd3c6;\n",
       "            color:  #000000;\n",
       "        }    #T_9703ad5a_5afe_11ea_bf95_9cebe8a8cd99row0_col4 {\n",
       "            background-color:  #e1dad6;\n",
       "            color:  #000000;\n",
       "        }    #T_9703ad5a_5afe_11ea_bf95_9cebe8a8cd99row0_col5 {\n",
       "            background-color:  #98b9ff;\n",
       "            color:  #000000;\n",
       "        }    #T_9703ad5a_5afe_11ea_bf95_9cebe8a8cd99row0_col6 {\n",
       "            background-color:  #c5d6f2;\n",
       "            color:  #000000;\n",
       "        }    #T_9703ad5a_5afe_11ea_bf95_9cebe8a8cd99row1_col0 {\n",
       "            background-color:  #dbdcde;\n",
       "            color:  #000000;\n",
       "        }    #T_9703ad5a_5afe_11ea_bf95_9cebe8a8cd99row1_col1 {\n",
       "            background-color:  #b40426;\n",
       "            color:  #f1f1f1;\n",
       "        }    #T_9703ad5a_5afe_11ea_bf95_9cebe8a8cd99row1_col2 {\n",
       "            background-color:  #dd5f4b;\n",
       "            color:  #000000;\n",
       "        }    #T_9703ad5a_5afe_11ea_bf95_9cebe8a8cd99row1_col3 {\n",
       "            background-color:  #e36b54;\n",
       "            color:  #000000;\n",
       "        }    #T_9703ad5a_5afe_11ea_bf95_9cebe8a8cd99row1_col4 {\n",
       "            background-color:  #f7ac8e;\n",
       "            color:  #000000;\n",
       "        }    #T_9703ad5a_5afe_11ea_bf95_9cebe8a8cd99row1_col5 {\n",
       "            background-color:  #485fd1;\n",
       "            color:  #f1f1f1;\n",
       "        }    #T_9703ad5a_5afe_11ea_bf95_9cebe8a8cd99row1_col6 {\n",
       "            background-color:  #abc8fd;\n",
       "            color:  #000000;\n",
       "        }    #T_9703ad5a_5afe_11ea_bf95_9cebe8a8cd99row2_col0 {\n",
       "            background-color:  #ecd3c5;\n",
       "            color:  #000000;\n",
       "        }    #T_9703ad5a_5afe_11ea_bf95_9cebe8a8cd99row2_col1 {\n",
       "            background-color:  #dd5f4b;\n",
       "            color:  #000000;\n",
       "        }    #T_9703ad5a_5afe_11ea_bf95_9cebe8a8cd99row2_col2 {\n",
       "            background-color:  #b40426;\n",
       "            color:  #f1f1f1;\n",
       "        }    #T_9703ad5a_5afe_11ea_bf95_9cebe8a8cd99row2_col3 {\n",
       "            background-color:  #c0282f;\n",
       "            color:  #f1f1f1;\n",
       "        }    #T_9703ad5a_5afe_11ea_bf95_9cebe8a8cd99row2_col4 {\n",
       "            background-color:  #e46e56;\n",
       "            color:  #000000;\n",
       "        }    #T_9703ad5a_5afe_11ea_bf95_9cebe8a8cd99row2_col5 {\n",
       "            background-color:  #465ecf;\n",
       "            color:  #f1f1f1;\n",
       "        }    #T_9703ad5a_5afe_11ea_bf95_9cebe8a8cd99row2_col6 {\n",
       "            background-color:  #bfd3f6;\n",
       "            color:  #000000;\n",
       "        }    #T_9703ad5a_5afe_11ea_bf95_9cebe8a8cd99row3_col0 {\n",
       "            background-color:  #ebd3c6;\n",
       "            color:  #000000;\n",
       "        }    #T_9703ad5a_5afe_11ea_bf95_9cebe8a8cd99row3_col1 {\n",
       "            background-color:  #e36b54;\n",
       "            color:  #000000;\n",
       "        }    #T_9703ad5a_5afe_11ea_bf95_9cebe8a8cd99row3_col2 {\n",
       "            background-color:  #c0282f;\n",
       "            color:  #f1f1f1;\n",
       "        }    #T_9703ad5a_5afe_11ea_bf95_9cebe8a8cd99row3_col3 {\n",
       "            background-color:  #b40426;\n",
       "            color:  #f1f1f1;\n",
       "        }    #T_9703ad5a_5afe_11ea_bf95_9cebe8a8cd99row3_col4 {\n",
       "            background-color:  #e57058;\n",
       "            color:  #000000;\n",
       "        }    #T_9703ad5a_5afe_11ea_bf95_9cebe8a8cd99row3_col5 {\n",
       "            background-color:  #3b4cc0;\n",
       "            color:  #f1f1f1;\n",
       "        }    #T_9703ad5a_5afe_11ea_bf95_9cebe8a8cd99row3_col6 {\n",
       "            background-color:  #b9d0f9;\n",
       "            color:  #000000;\n",
       "        }    #T_9703ad5a_5afe_11ea_bf95_9cebe8a8cd99row4_col0 {\n",
       "            background-color:  #e1dad6;\n",
       "            color:  #000000;\n",
       "        }    #T_9703ad5a_5afe_11ea_bf95_9cebe8a8cd99row4_col1 {\n",
       "            background-color:  #f7ac8e;\n",
       "            color:  #000000;\n",
       "        }    #T_9703ad5a_5afe_11ea_bf95_9cebe8a8cd99row4_col2 {\n",
       "            background-color:  #e46e56;\n",
       "            color:  #000000;\n",
       "        }    #T_9703ad5a_5afe_11ea_bf95_9cebe8a8cd99row4_col3 {\n",
       "            background-color:  #e57058;\n",
       "            color:  #000000;\n",
       "        }    #T_9703ad5a_5afe_11ea_bf95_9cebe8a8cd99row4_col4 {\n",
       "            background-color:  #b40426;\n",
       "            color:  #f1f1f1;\n",
       "        }    #T_9703ad5a_5afe_11ea_bf95_9cebe8a8cd99row4_col5 {\n",
       "            background-color:  #c4d5f3;\n",
       "            color:  #000000;\n",
       "        }    #T_9703ad5a_5afe_11ea_bf95_9cebe8a8cd99row4_col6 {\n",
       "            background-color:  #f1ccb8;\n",
       "            color:  #000000;\n",
       "        }    #T_9703ad5a_5afe_11ea_bf95_9cebe8a8cd99row5_col0 {\n",
       "            background-color:  #98b9ff;\n",
       "            color:  #000000;\n",
       "        }    #T_9703ad5a_5afe_11ea_bf95_9cebe8a8cd99row5_col1 {\n",
       "            background-color:  #485fd1;\n",
       "            color:  #f1f1f1;\n",
       "        }    #T_9703ad5a_5afe_11ea_bf95_9cebe8a8cd99row5_col2 {\n",
       "            background-color:  #465ecf;\n",
       "            color:  #f1f1f1;\n",
       "        }    #T_9703ad5a_5afe_11ea_bf95_9cebe8a8cd99row5_col3 {\n",
       "            background-color:  #3b4cc0;\n",
       "            color:  #f1f1f1;\n",
       "        }    #T_9703ad5a_5afe_11ea_bf95_9cebe8a8cd99row5_col4 {\n",
       "            background-color:  #c4d5f3;\n",
       "            color:  #000000;\n",
       "        }    #T_9703ad5a_5afe_11ea_bf95_9cebe8a8cd99row5_col5 {\n",
       "            background-color:  #b40426;\n",
       "            color:  #f1f1f1;\n",
       "        }    #T_9703ad5a_5afe_11ea_bf95_9cebe8a8cd99row5_col6 {\n",
       "            background-color:  #f6bea4;\n",
       "            color:  #000000;\n",
       "        }    #T_9703ad5a_5afe_11ea_bf95_9cebe8a8cd99row6_col0 {\n",
       "            background-color:  #c5d6f2;\n",
       "            color:  #000000;\n",
       "        }    #T_9703ad5a_5afe_11ea_bf95_9cebe8a8cd99row6_col1 {\n",
       "            background-color:  #abc8fd;\n",
       "            color:  #000000;\n",
       "        }    #T_9703ad5a_5afe_11ea_bf95_9cebe8a8cd99row6_col2 {\n",
       "            background-color:  #bfd3f6;\n",
       "            color:  #000000;\n",
       "        }    #T_9703ad5a_5afe_11ea_bf95_9cebe8a8cd99row6_col3 {\n",
       "            background-color:  #b9d0f9;\n",
       "            color:  #000000;\n",
       "        }    #T_9703ad5a_5afe_11ea_bf95_9cebe8a8cd99row6_col4 {\n",
       "            background-color:  #f1ccb8;\n",
       "            color:  #000000;\n",
       "        }    #T_9703ad5a_5afe_11ea_bf95_9cebe8a8cd99row6_col5 {\n",
       "            background-color:  #f6bea4;\n",
       "            color:  #000000;\n",
       "        }    #T_9703ad5a_5afe_11ea_bf95_9cebe8a8cd99row6_col6 {\n",
       "            background-color:  #b40426;\n",
       "            color:  #f1f1f1;\n",
       "        }</style><table id=\"T_9703ad5a_5afe_11ea_bf95_9cebe8a8cd99\" ><thead>    <tr>        <th class=\"blank level0\" ></th>        <th class=\"col_heading level0 col0\" >Champion</th>        <th class=\"col_heading level0 col1\" >Playoffs</th>        <th class=\"col_heading level0 col2\" >Wins</th>        <th class=\"col_heading level0 col3\" >SRS</th>        <th class=\"col_heading level0 col4\" >ORtg</th>        <th class=\"col_heading level0 col5\" >DRtg</th>        <th class=\"col_heading level0 col6\" >Pace</th>    </tr></thead><tbody>\n",
       "                <tr>\n",
       "                        <th id=\"T_9703ad5a_5afe_11ea_bf95_9cebe8a8cd99level0_row0\" class=\"row_heading level0 row0\" >Champion</th>\n",
       "                        <td id=\"T_9703ad5a_5afe_11ea_bf95_9cebe8a8cd99row0_col0\" class=\"data row0 col0\" >1</td>\n",
       "                        <td id=\"T_9703ad5a_5afe_11ea_bf95_9cebe8a8cd99row0_col1\" class=\"data row0 col1\" >0.17</td>\n",
       "                        <td id=\"T_9703ad5a_5afe_11ea_bf95_9cebe8a8cd99row0_col2\" class=\"data row0 col2\" >0.28</td>\n",
       "                        <td id=\"T_9703ad5a_5afe_11ea_bf95_9cebe8a8cd99row0_col3\" class=\"data row0 col3\" >0.28</td>\n",
       "                        <td id=\"T_9703ad5a_5afe_11ea_bf95_9cebe8a8cd99row0_col4\" class=\"data row0 col4\" >0.21</td>\n",
       "                        <td id=\"T_9703ad5a_5afe_11ea_bf95_9cebe8a8cd99row0_col5\" class=\"data row0 col5\" >-0.18</td>\n",
       "                        <td id=\"T_9703ad5a_5afe_11ea_bf95_9cebe8a8cd99row0_col6\" class=\"data row0 col6\" >0.037</td>\n",
       "            </tr>\n",
       "            <tr>\n",
       "                        <th id=\"T_9703ad5a_5afe_11ea_bf95_9cebe8a8cd99level0_row1\" class=\"row_heading level0 row1\" >Playoffs</th>\n",
       "                        <td id=\"T_9703ad5a_5afe_11ea_bf95_9cebe8a8cd99row1_col0\" class=\"data row1 col0\" >0.17</td>\n",
       "                        <td id=\"T_9703ad5a_5afe_11ea_bf95_9cebe8a8cd99row1_col1\" class=\"data row1 col1\" >1</td>\n",
       "                        <td id=\"T_9703ad5a_5afe_11ea_bf95_9cebe8a8cd99row1_col2\" class=\"data row1 col2\" >0.8</td>\n",
       "                        <td id=\"T_9703ad5a_5afe_11ea_bf95_9cebe8a8cd99row1_col3\" class=\"data row1 col3\" >0.76</td>\n",
       "                        <td id=\"T_9703ad5a_5afe_11ea_bf95_9cebe8a8cd99row1_col4\" class=\"data row1 col4\" >0.51</td>\n",
       "                        <td id=\"T_9703ad5a_5afe_11ea_bf95_9cebe8a8cd99row1_col5\" class=\"data row1 col5\" >-0.57</td>\n",
       "                        <td id=\"T_9703ad5a_5afe_11ea_bf95_9cebe8a8cd99row1_col6\" class=\"data row1 col6\" >-0.087</td>\n",
       "            </tr>\n",
       "            <tr>\n",
       "                        <th id=\"T_9703ad5a_5afe_11ea_bf95_9cebe8a8cd99level0_row2\" class=\"row_heading level0 row2\" >Wins</th>\n",
       "                        <td id=\"T_9703ad5a_5afe_11ea_bf95_9cebe8a8cd99row2_col0\" class=\"data row2 col0\" >0.28</td>\n",
       "                        <td id=\"T_9703ad5a_5afe_11ea_bf95_9cebe8a8cd99row2_col1\" class=\"data row2 col1\" >0.8</td>\n",
       "                        <td id=\"T_9703ad5a_5afe_11ea_bf95_9cebe8a8cd99row2_col2\" class=\"data row2 col2\" >1</td>\n",
       "                        <td id=\"T_9703ad5a_5afe_11ea_bf95_9cebe8a8cd99row2_col3\" class=\"data row2 col3\" >0.95</td>\n",
       "                        <td id=\"T_9703ad5a_5afe_11ea_bf95_9cebe8a8cd99row2_col4\" class=\"data row2 col4\" >0.74</td>\n",
       "                        <td id=\"T_9703ad5a_5afe_11ea_bf95_9cebe8a8cd99row2_col5\" class=\"data row2 col5\" >-0.57</td>\n",
       "                        <td id=\"T_9703ad5a_5afe_11ea_bf95_9cebe8a8cd99row2_col6\" class=\"data row2 col6\" >0.0098</td>\n",
       "            </tr>\n",
       "            <tr>\n",
       "                        <th id=\"T_9703ad5a_5afe_11ea_bf95_9cebe8a8cd99level0_row3\" class=\"row_heading level0 row3\" >SRS</th>\n",
       "                        <td id=\"T_9703ad5a_5afe_11ea_bf95_9cebe8a8cd99row3_col0\" class=\"data row3 col0\" >0.28</td>\n",
       "                        <td id=\"T_9703ad5a_5afe_11ea_bf95_9cebe8a8cd99row3_col1\" class=\"data row3 col1\" >0.76</td>\n",
       "                        <td id=\"T_9703ad5a_5afe_11ea_bf95_9cebe8a8cd99row3_col2\" class=\"data row3 col2\" >0.95</td>\n",
       "                        <td id=\"T_9703ad5a_5afe_11ea_bf95_9cebe8a8cd99row3_col3\" class=\"data row3 col3\" >1</td>\n",
       "                        <td id=\"T_9703ad5a_5afe_11ea_bf95_9cebe8a8cd99row3_col4\" class=\"data row3 col4\" >0.74</td>\n",
       "                        <td id=\"T_9703ad5a_5afe_11ea_bf95_9cebe8a8cd99row3_col5\" class=\"data row3 col5\" >-0.64</td>\n",
       "                        <td id=\"T_9703ad5a_5afe_11ea_bf95_9cebe8a8cd99row3_col6\" class=\"data row3 col6\" >-0.024</td>\n",
       "            </tr>\n",
       "            <tr>\n",
       "                        <th id=\"T_9703ad5a_5afe_11ea_bf95_9cebe8a8cd99level0_row4\" class=\"row_heading level0 row4\" >ORtg</th>\n",
       "                        <td id=\"T_9703ad5a_5afe_11ea_bf95_9cebe8a8cd99row4_col0\" class=\"data row4 col0\" >0.21</td>\n",
       "                        <td id=\"T_9703ad5a_5afe_11ea_bf95_9cebe8a8cd99row4_col1\" class=\"data row4 col1\" >0.51</td>\n",
       "                        <td id=\"T_9703ad5a_5afe_11ea_bf95_9cebe8a8cd99row4_col2\" class=\"data row4 col2\" >0.74</td>\n",
       "                        <td id=\"T_9703ad5a_5afe_11ea_bf95_9cebe8a8cd99row4_col3\" class=\"data row4 col3\" >0.74</td>\n",
       "                        <td id=\"T_9703ad5a_5afe_11ea_bf95_9cebe8a8cd99row4_col4\" class=\"data row4 col4\" >1</td>\n",
       "                        <td id=\"T_9703ad5a_5afe_11ea_bf95_9cebe8a8cd99row4_col5\" class=\"data row4 col5\" >0.031</td>\n",
       "                        <td id=\"T_9703ad5a_5afe_11ea_bf95_9cebe8a8cd99row4_col6\" class=\"data row4 col6\" >0.33</td>\n",
       "            </tr>\n",
       "            <tr>\n",
       "                        <th id=\"T_9703ad5a_5afe_11ea_bf95_9cebe8a8cd99level0_row5\" class=\"row_heading level0 row5\" >DRtg</th>\n",
       "                        <td id=\"T_9703ad5a_5afe_11ea_bf95_9cebe8a8cd99row5_col0\" class=\"data row5 col0\" >-0.18</td>\n",
       "                        <td id=\"T_9703ad5a_5afe_11ea_bf95_9cebe8a8cd99row5_col1\" class=\"data row5 col1\" >-0.57</td>\n",
       "                        <td id=\"T_9703ad5a_5afe_11ea_bf95_9cebe8a8cd99row5_col2\" class=\"data row5 col2\" >-0.57</td>\n",
       "                        <td id=\"T_9703ad5a_5afe_11ea_bf95_9cebe8a8cd99row5_col3\" class=\"data row5 col3\" >-0.64</td>\n",
       "                        <td id=\"T_9703ad5a_5afe_11ea_bf95_9cebe8a8cd99row5_col4\" class=\"data row5 col4\" >0.031</td>\n",
       "                        <td id=\"T_9703ad5a_5afe_11ea_bf95_9cebe8a8cd99row5_col5\" class=\"data row5 col5\" >1</td>\n",
       "                        <td id=\"T_9703ad5a_5afe_11ea_bf95_9cebe8a8cd99row5_col6\" class=\"data row5 col6\" >0.42</td>\n",
       "            </tr>\n",
       "            <tr>\n",
       "                        <th id=\"T_9703ad5a_5afe_11ea_bf95_9cebe8a8cd99level0_row6\" class=\"row_heading level0 row6\" >Pace</th>\n",
       "                        <td id=\"T_9703ad5a_5afe_11ea_bf95_9cebe8a8cd99row6_col0\" class=\"data row6 col0\" >0.037</td>\n",
       "                        <td id=\"T_9703ad5a_5afe_11ea_bf95_9cebe8a8cd99row6_col1\" class=\"data row6 col1\" >-0.087</td>\n",
       "                        <td id=\"T_9703ad5a_5afe_11ea_bf95_9cebe8a8cd99row6_col2\" class=\"data row6 col2\" >0.0098</td>\n",
       "                        <td id=\"T_9703ad5a_5afe_11ea_bf95_9cebe8a8cd99row6_col3\" class=\"data row6 col3\" >-0.024</td>\n",
       "                        <td id=\"T_9703ad5a_5afe_11ea_bf95_9cebe8a8cd99row6_col4\" class=\"data row6 col4\" >0.33</td>\n",
       "                        <td id=\"T_9703ad5a_5afe_11ea_bf95_9cebe8a8cd99row6_col5\" class=\"data row6 col5\" >0.42</td>\n",
       "                        <td id=\"T_9703ad5a_5afe_11ea_bf95_9cebe8a8cd99row6_col6\" class=\"data row6 col6\" >1</td>\n",
       "            </tr>\n",
       "    </tbody></table>"
      ],
      "text/plain": [
       "<pandas.io.formats.style.Styler at 0x2e431103c08>"
      ]
     },
     "execution_count": 8,
     "metadata": {},
     "output_type": "execute_result"
    }
   ],
   "source": [
    "# execute correlation heat map to illustrate potential correlations to be evaluated\n",
    "corr = df.corr()\n",
    "corr.style.background_gradient(cmap='coolwarm', axis=None).set_precision(2)"
   ]
  },
  {
   "cell_type": "code",
   "execution_count": 9,
   "metadata": {},
   "outputs": [
    {
     "data": {
      "text/html": [
       "<div>\n",
       "<style scoped>\n",
       "    .dataframe tbody tr th:only-of-type {\n",
       "        vertical-align: middle;\n",
       "    }\n",
       "\n",
       "    .dataframe tbody tr th {\n",
       "        vertical-align: top;\n",
       "    }\n",
       "\n",
       "    .dataframe thead th {\n",
       "        text-align: right;\n",
       "    }\n",
       "</style>\n",
       "<table border=\"1\" class=\"dataframe\">\n",
       "  <thead>\n",
       "    <tr style=\"text-align: right;\">\n",
       "      <th></th>\n",
       "      <th>Champion</th>\n",
       "      <th>Playoffs</th>\n",
       "      <th>Wins</th>\n",
       "      <th>SRS</th>\n",
       "      <th>ORtg</th>\n",
       "      <th>DRtg</th>\n",
       "      <th>Pace</th>\n",
       "    </tr>\n",
       "  </thead>\n",
       "  <tbody>\n",
       "    <tr>\n",
       "      <td>count</td>\n",
       "      <td>300.000000</td>\n",
       "      <td>300.00000</td>\n",
       "      <td>300.000000</td>\n",
       "      <td>300.000000</td>\n",
       "      <td>300.000000</td>\n",
       "      <td>300.000000</td>\n",
       "      <td>300.000000</td>\n",
       "    </tr>\n",
       "    <tr>\n",
       "      <td>mean</td>\n",
       "      <td>0.033333</td>\n",
       "      <td>0.54000</td>\n",
       "      <td>40.196667</td>\n",
       "      <td>-0.001533</td>\n",
       "      <td>107.177000</td>\n",
       "      <td>107.170000</td>\n",
       "      <td>94.548333</td>\n",
       "    </tr>\n",
       "    <tr>\n",
       "      <td>std</td>\n",
       "      <td>0.179805</td>\n",
       "      <td>0.49923</td>\n",
       "      <td>12.607981</td>\n",
       "      <td>4.536997</td>\n",
       "      <td>3.659775</td>\n",
       "      <td>3.352147</td>\n",
       "      <td>3.391031</td>\n",
       "    </tr>\n",
       "    <tr>\n",
       "      <td>min</td>\n",
       "      <td>0.000000</td>\n",
       "      <td>0.00000</td>\n",
       "      <td>7.000000</td>\n",
       "      <td>-13.960000</td>\n",
       "      <td>95.200000</td>\n",
       "      <td>98.200000</td>\n",
       "      <td>87.700000</td>\n",
       "    </tr>\n",
       "    <tr>\n",
       "      <td>25%</td>\n",
       "      <td>0.000000</td>\n",
       "      <td>0.00000</td>\n",
       "      <td>30.750000</td>\n",
       "      <td>-3.112500</td>\n",
       "      <td>104.575000</td>\n",
       "      <td>104.800000</td>\n",
       "      <td>91.800000</td>\n",
       "    </tr>\n",
       "    <tr>\n",
       "      <td>50%</td>\n",
       "      <td>0.000000</td>\n",
       "      <td>1.00000</td>\n",
       "      <td>41.000000</td>\n",
       "      <td>0.110000</td>\n",
       "      <td>106.850000</td>\n",
       "      <td>107.200000</td>\n",
       "      <td>94.350000</td>\n",
       "    </tr>\n",
       "    <tr>\n",
       "      <td>75%</td>\n",
       "      <td>0.000000</td>\n",
       "      <td>1.00000</td>\n",
       "      <td>50.000000</td>\n",
       "      <td>3.382500</td>\n",
       "      <td>109.825000</td>\n",
       "      <td>109.900000</td>\n",
       "      <td>96.700000</td>\n",
       "    </tr>\n",
       "    <tr>\n",
       "      <td>max</td>\n",
       "      <td>1.000000</td>\n",
       "      <td>1.00000</td>\n",
       "      <td>73.000000</td>\n",
       "      <td>11.350000</td>\n",
       "      <td>115.900000</td>\n",
       "      <td>117.600000</td>\n",
       "      <td>103.900000</td>\n",
       "    </tr>\n",
       "  </tbody>\n",
       "</table>\n",
       "</div>"
      ],
      "text/plain": [
       "         Champion   Playoffs        Wins         SRS        ORtg        DRtg  \\\n",
       "count  300.000000  300.00000  300.000000  300.000000  300.000000  300.000000   \n",
       "mean     0.033333    0.54000   40.196667   -0.001533  107.177000  107.170000   \n",
       "std      0.179805    0.49923   12.607981    4.536997    3.659775    3.352147   \n",
       "min      0.000000    0.00000    7.000000  -13.960000   95.200000   98.200000   \n",
       "25%      0.000000    0.00000   30.750000   -3.112500  104.575000  104.800000   \n",
       "50%      0.000000    1.00000   41.000000    0.110000  106.850000  107.200000   \n",
       "75%      0.000000    1.00000   50.000000    3.382500  109.825000  109.900000   \n",
       "max      1.000000    1.00000   73.000000   11.350000  115.900000  117.600000   \n",
       "\n",
       "             Pace  \n",
       "count  300.000000  \n",
       "mean    94.548333  \n",
       "std      3.391031  \n",
       "min     87.700000  \n",
       "25%     91.800000  \n",
       "50%     94.350000  \n",
       "75%     96.700000  \n",
       "max    103.900000  "
      ]
     },
     "execution_count": 9,
     "metadata": {},
     "output_type": "execute_result"
    }
   ],
   "source": [
    "df.describe()"
   ]
  },
  {
   "cell_type": "markdown",
   "metadata": {},
   "source": [
    "## Histograms  "
   ]
  },
  {
   "cell_type": "code",
   "execution_count": 10,
   "metadata": {},
   "outputs": [],
   "source": [
    "# increase the size of the plots\n",
    "plt.rcParams['figure.figsize'] = [10, 10]"
   ]
  },
  {
   "cell_type": "code",
   "execution_count": 11,
   "metadata": {},
   "outputs": [
    {
     "data": {
      "image/png": "[encoded data removed]",
      "text/plain": [
       "<Figure size 720x720 with 1 Axes>"
      ]
     },
     "metadata": {
      "needs_background": "light"
     },
     "output_type": "display_data"
    }
   ],
   "source": [
    "# histogram for Wins\n",
    "plt.hist(df.Wins)\n",
    "plt.title('Wins')\n",
    "plt.xlabel('Wins')\n",
    "plt.ylabel('Frequency')\n",
    "plt.grid(True)"
   ]
  },
  {
   "cell_type": "code",
   "execution_count": 12,
   "metadata": {},
   "outputs": [
    {
     "data": {
      "image/png": "[encoded data removed]",
      "text/plain": [
       "<Figure size 720x720 with 1 Axes>"
      ]
     },
     "metadata": {
      "needs_background": "light"
     },
     "output_type": "display_data"
    }
   ],
   "source": [
    "# histogram for SRS\n",
    "plt.hist(df.SRS)\n",
    "plt.title('SRS')\n",
    "plt.xlabel('Score')\n",
    "plt.ylabel('Frequency')\n",
    "plt.grid(True)"
   ]
  },
  {
   "cell_type": "code",
   "execution_count": 13,
   "metadata": {},
   "outputs": [
    {
     "data": {
      "image/png": "[encoded data removed]",
      "text/plain": [
       "<Figure size 720x720 with 1 Axes>"
      ]
     },
     "metadata": {
      "needs_background": "light"
     },
     "output_type": "display_data"
    }
   ],
   "source": [
    "# histogram for Offensive Rating\n",
    "plt.hist(df.ORtg)\n",
    "plt.title('ORtg')\n",
    "plt.xlabel('Rating')\n",
    "plt.ylabel('Frequency')\n",
    "plt.grid(True)"
   ]
  },
  {
   "cell_type": "code",
   "execution_count": 14,
   "metadata": {},
   "outputs": [
    {
     "data": {
      "image/png": "[encoded data removed]",
      "text/plain": [
       "<Figure size 720x720 with 1 Axes>"
      ]
     },
     "metadata": {
      "needs_background": "light"
     },
     "output_type": "display_data"
    }
   ],
   "source": [
    "# histogram for Defensive Rating\n",
    "plt.hist(df.DRtg)\n",
    "plt.title('DRtg')\n",
    "plt.xlabel('Rating')\n",
    "plt.ylabel('Frequency')\n",
    "plt.grid(True)"
   ]
  },
  {
   "cell_type": "code",
   "execution_count": 15,
   "metadata": {},
   "outputs": [
    {
     "data": {
      "image/png": "[encoded data removed]",
      "text/plain": [
       "<Figure size 720x720 with 1 Axes>"
      ]
     },
     "metadata": {
      "needs_background": "light"
     },
     "output_type": "display_data"
    }
   ],
   "source": [
    "# histogram for Pace\n",
    "plt.hist(df.Pace)\n",
    "plt.title('Pace')\n",
    "plt.xlabel('Rating')\n",
    "plt.ylabel('Frequency')\n",
    "plt.grid(True)"
   ]
  },
  {
   "cell_type": "markdown",
   "metadata": {},
   "source": [
    "##  Probability Mass Function (PMF)  \n",
    "\n",
    "Two probability mass functions are examined. First the Champion variable is split into teams that won the championship (Champs) and those that did not (Not_Champs). This shows that no championship team had a DRtg higher than the median DRtg (107.2).  \n",
    "\n",
    "The second PMF, the variable Wins is split into two groups. The first, Above_Average, consists of teams with total season wins above the mean for Wins. The second, Below_Average, consists of teams with total season wins below the mean for Wins. Again, a pattern, as to be expected, of teams with higher win totals having lower DRtg. "
   ]
  },
  {
   "cell_type": "code",
   "execution_count": 16,
   "metadata": {},
   "outputs": [],
   "source": [
    "# Split Champion into Haves and Have Nots\n",
    "Champs = df[df.Champion == 1]\n",
    "Not_Champs = df[df.Champion == 0]"
   ]
  },
  {
   "cell_type": "code",
   "execution_count": 17,
   "metadata": {},
   "outputs": [],
   "source": [
    "# create PMF for each\n",
    "Champs_DRtg = Champs.DRtg\n",
    "Champs_DRtg_pmf = thinkstats2.Pmf(Champs_DRtg, label='Champs')\n",
    "Not_Champs_DRtg = Not_Champs.DRtg\n",
    "Not_Champs_DRtg_pmf = thinkstats2.Pmf(Not_Champs_DRtg, label='Not Champs')"
   ]
  },
  {
   "cell_type": "code",
   "execution_count": 18,
   "metadata": {},
   "outputs": [
    {
     "data": {
      "image/png": "[encoded data removed]",
      "text/plain": [
       "<Figure size 720x720 with 1 Axes>"
      ]
     },
     "metadata": {
      "needs_background": "light"
     },
     "output_type": "display_data"
    }
   ],
   "source": [
    "# Plot \n",
    "thinkplot.PrePlot(2)\n",
    "thinkplot.Hist(Champs_DRtg_pmf, align='right')\n",
    "thinkplot.Hist(Not_Champs_DRtg_pmf, align='left', color='red')\n",
    "thinkplot.Config(xlabel='DRtg', ylabel='PMF')"
   ]
  },
  {
   "cell_type": "code",
   "execution_count": 19,
   "metadata": {},
   "outputs": [
    {
     "data": {
      "text/plain": [
       "107.2"
      ]
     },
     "execution_count": 19,
     "metadata": {},
     "output_type": "execute_result"
    }
   ],
   "source": [
    "df.DRtg.median()"
   ]
  },
  {
   "cell_type": "code",
   "execution_count": 20,
   "metadata": {},
   "outputs": [
    {
     "data": {
      "text/plain": [
       "40.196666666666665"
      ]
     },
     "execution_count": 20,
     "metadata": {},
     "output_type": "execute_result"
    }
   ],
   "source": [
    "# Split Wins into those above and below average wins\n",
    "Above_Average = df[df.Wins >= df.Wins.mean()]\n",
    "Below_Average = df[df.Wins < df.Wins.mean()]\n",
    "df.Wins.mean()"
   ]
  },
  {
   "cell_type": "code",
   "execution_count": 21,
   "metadata": {},
   "outputs": [],
   "source": [
    "# create PMF for each\n",
    "Above_Average_DRtg = Above_Average.DRtg\n",
    "Above_Average_DRtg_pmf = thinkstats2.Pmf(Above_Average_DRtg, label='Above Average Wins')\n",
    "Below_Average_DRtg = Below_Average.DRtg\n",
    "Below_Average_DRtg_pmf = thinkstats2.Pmf(Below_Average_DRtg, label='Below Average Wins')"
   ]
  },
  {
   "cell_type": "code",
   "execution_count": 22,
   "metadata": {},
   "outputs": [
    {
     "data": {
      "image/png": "[encoded data removed]",
      "text/plain": [
       "<Figure size 720x720 with 1 Axes>"
      ]
     },
     "metadata": {
      "needs_background": "light"
     },
     "output_type": "display_data"
    }
   ],
   "source": [
    "# Plot\n",
    "thinkplot.PrePlot(2)\n",
    "thinkplot.Hist(Above_Average_DRtg_pmf, align='right')\n",
    "thinkplot.Hist(Below_Average_DRtg_pmf, align='left', color='red')\n",
    "thinkplot.Config(xlabel='DRtg', ylabel='PMF')"
   ]
  },
  {
   "cell_type": "markdown",
   "metadata": {},
   "source": [
    "## Cumulative Distribution Function (CDF)  \n",
    "\n",
    "For understanding CDF, three CDF plots are utilized. The first plot is the CDF for DRtg across the data. This plot does not share as much as was hoped, other than the Interquartile Range for DRtg is 104.8 - 109.9.  \n",
    "\n",
    "The next two CDFs compare Above_Average_DRtg to Below_Average_DRtg and Champs_DRtg to Not_Champs_DRtg. These plots how continue to show that teams with higher wins and more championships have lower DRtg."
   ]
  },
  {
   "cell_type": "code",
   "execution_count": 23,
   "metadata": {},
   "outputs": [
    {
     "data": {
      "image/png": "[encoded data removed]",
      "text/plain": [
       "<Figure size 720x720 with 1 Axes>"
      ]
     },
     "metadata": {
      "needs_background": "light"
     },
     "output_type": "display_data"
    }
   ],
   "source": [
    "# Plot CDF of Defensive Rating\n",
    "cdf = thinkstats2.Cdf(df.DRtg, label='DRtg')\n",
    "thinkplot.Cdf(cdf)\n",
    "thinkplot.Config(xlabel='Rating', ylabel='CDF', loc='upper left')"
   ]
  },
  {
   "cell_type": "code",
   "execution_count": 24,
   "metadata": {},
   "outputs": [
    {
     "data": {
      "text/plain": [
       "(104.8, 109.9)"
      ]
     },
     "execution_count": 24,
     "metadata": {},
     "output_type": "execute_result"
    }
   ],
   "source": [
    "# function for Percentile Rank (PR)\n",
    "def PercentileRank(scores, your_score):\n",
    "    count = 0\n",
    "    for score in scores:\n",
    "        if score <= your_score:\n",
    "            count += 1\n",
    "\n",
    "    percentile_rank = 100.0 * count / len(scores)\n",
    "    return percentile_rank\n",
    "\n",
    "# function to take PR and return a percentile\n",
    "def Percentile(scores, percentile_rank):\n",
    "    scores.sort()\n",
    "    for score in scores:\n",
    "        if PercentileRank(scores, score) >= percentile_rank:\n",
    "            return score\n",
    "\n",
    "# IQR is the Interquartile Range (the difference between the 75th and 25th percentiles)\n",
    "IQR = (cdf.Percentile(25), cdf.Percentile(75))\n",
    "IQR  "
   ]
  },
  {
   "cell_type": "code",
   "execution_count": 25,
   "metadata": {},
   "outputs": [
    {
     "data": {
      "image/png": "[encoded data removed]",
      "text/plain": [
       "<Figure size 720x720 with 1 Axes>"
      ]
     },
     "metadata": {
      "needs_background": "light"
     },
     "output_type": "display_data"
    }
   ],
   "source": [
    "# create CDF for each and plot\n",
    "Above_Average_DRtg_cdf = thinkstats2.Cdf(Above_Average_DRtg, label='Above Average Wins')\n",
    "Below_Average_DRtg_cdf = thinkstats2.Cdf(Below_Average_DRtg, label='Below Average Wins')\n",
    "\n",
    "thinkplot.PrePlot(2)\n",
    "thinkplot.Cdfs([Above_Average_DRtg_cdf, Below_Average_DRtg_cdf])\n",
    "thinkplot.Config(xlabel='DRtg', ylabel='CDF')"
   ]
  },
  {
   "cell_type": "code",
   "execution_count": 26,
   "metadata": {},
   "outputs": [
    {
     "data": {
      "image/png": "[encoded data removed]",
      "text/plain": [
       "<Figure size 720x720 with 1 Axes>"
      ]
     },
     "metadata": {
      "needs_background": "light"
     },
     "output_type": "display_data"
    }
   ],
   "source": [
    "# create CDF for each and plot\n",
    "Champs_DRtg_cdf = thinkstats2.Cdf(Champs_DRtg, label='Champs')\n",
    "Not_Champs_DRtg_cdf = thinkstats2.Cdf(Not_Champs_DRtg, label='Not Champs')\n",
    "\n",
    "thinkplot.PrePlot(2)\n",
    "thinkplot.Cdfs([Champs_DRtg_cdf, Not_Champs_DRtg_cdf])\n",
    "thinkplot.Config(xlabel='DRtg', ylabel='CDF')"
   ]
  },
  {
   "cell_type": "markdown",
   "metadata": {},
   "source": [
    "## Analytical Distribution  \n",
    "\n",
    "A normal probability plot shows the distribution of DRtg on a linear scale with a normal model. Additionally, the second plot shows the same distribution on a log scale with a lognormal model. The two models appear to have approximately the same fit, and both would be good models for the data."
   ]
  },
  {
   "cell_type": "code",
   "execution_count": 27,
   "metadata": {},
   "outputs": [],
   "source": [
    "# function to estimate the parameters of a normal distribution and plot the data and a normal model\n",
    "def MakeNormalModel(x):\n",
    "    # Plots a CDF with a Normal model.\n",
    "    cdf = thinkstats2.Cdf(x, label='DRtg')\n",
    "\n",
    "    mean, var = thinkstats2.TrimmedMeanVar(x)\n",
    "    std = np.sqrt(var)\n",
    "    print('n, mean, std', len(x), mean, std)\n",
    "\n",
    "    xmin = mean - 4 * std\n",
    "    xmax = mean + 4 * std\n",
    "\n",
    "    xs, ps = thinkstats2.RenderNormalCdf(mean, std, xmin, xmax)\n",
    "    thinkplot.Plot(xs, ps, label='model', linewidth=4, color='0.8')\n",
    "    thinkplot.Cdf(cdf)"
   ]
  },
  {
   "cell_type": "code",
   "execution_count": 28,
   "metadata": {},
   "outputs": [
    {
     "name": "stdout",
     "output_type": "stream",
     "text": [
      "n, mean, std 300 107.17312925170069 3.149871890866711\n"
     ]
    },
    {
     "data": {
      "image/png": "[encoded data removed]",
      "text/plain": [
       "<Figure size 720x720 with 1 Axes>"
      ]
     },
     "metadata": {
      "needs_background": "light"
     },
     "output_type": "display_data"
    }
   ],
   "source": [
    "# plot linear \n",
    "MakeNormalModel(df.DRtg)\n",
    "thinkplot.Config(title='DRtg, linear scale', xlabel='Rating',\n",
    "                 ylabel='CDF', loc='upper left')"
   ]
  },
  {
   "cell_type": "code",
   "execution_count": 29,
   "metadata": {},
   "outputs": [
    {
     "name": "stdout",
     "output_type": "stream",
     "text": [
      "n, mean, std 300 2.029897515007144 0.012806978272396597\n"
     ]
    },
    {
     "data": {
      "image/png": "[encoded data removed]",
      "text/plain": [
       "<Figure size 720x720 with 1 Axes>"
      ]
     },
     "metadata": {
      "needs_background": "light"
     },
     "output_type": "display_data"
    }
   ],
   "source": [
    "log_DRtg = np.log10(df.DRtg)\n",
    "MakeNormalModel(log_DRtg)\n",
    "thinkplot.Config(title='DRtg, log scale', xlabel='log10 Rating',\n",
    "                 ylabel='CDF', loc='upper left')"
   ]
  },
  {
   "cell_type": "markdown",
   "metadata": {},
   "source": [
    "## Scatter Plots\n",
    "\n",
    "Below multiple variables were plotted to assist in illustrating potential relationships. From this the following was found:  \n",
    "\n",
    "1. DRtg and Pace - Covariance: Positive, Correlation: Positive and Linear\n",
    "2. DRtg and Wins - Covariance: Negative, Correlation: Negative and Linear\n",
    "3. ORtg and Wins - Covariance: Positive, Correlation: Positive and Linear\n",
    "4. DRtg and SRS - Covariance: Negative, Correlation: Negative and Linear  \n",
    "\n",
    "These findings are consistent with the information gathered thus far. "
   ]
  },
  {
   "cell_type": "code",
   "execution_count": 30,
   "metadata": {},
   "outputs": [
    {
     "data": {
      "image/png": "[encoded data removed]",
      "text/plain": [
       "<Figure size 720x720 with 1 Axes>"
      ]
     },
     "metadata": {
      "needs_background": "light"
     },
     "output_type": "display_data"
    },
    {
     "data": {
      "text/plain": [
       "<Figure size 576x432 with 0 Axes>"
      ]
     },
     "metadata": {},
     "output_type": "display_data"
    }
   ],
   "source": [
    "# Scatter Plot of DRtg and Pace\n",
    "thinkplot.Scatter(df.DRtg, df.Pace, alpha = .4)\n",
    "thinkplot.Show(xlabel='DRtg', ylabel='Pace')"
   ]
  },
  {
   "cell_type": "code",
   "execution_count": 31,
   "metadata": {},
   "outputs": [],
   "source": [
    "# function for determining covariance\n",
    "def Cov(xs, ys, meanx=None, meany=None):\n",
    "    xs = np.asarray(xs)\n",
    "    ys = np.asarray(ys)\n",
    "\n",
    "    if meanx is None:\n",
    "        meanx = np.mean(xs)\n",
    "    if meany is None:\n",
    "        meany = np.mean(ys)\n",
    "\n",
    "    cov = np.dot(xs-meanx, ys-meany) / len(xs)\n",
    "    return cov"
   ]
  },
  {
   "cell_type": "code",
   "execution_count": 32,
   "metadata": {},
   "outputs": [
    {
     "name": "stdout",
     "output_type": "stream",
     "text": [
      "Relationships between DRtg and Pace:\n",
      "Covariance: 4.729150000000001\n",
      "Pearson's Correlation: (0.41742483301990907, 4.44864494024275e-14)\n",
      "Spearman's Rank Correlation: SpearmanrResult(correlation=0.40097836221546984, pvalue=5.144092141151457e-13)\n"
     ]
    }
   ],
   "source": [
    "print('Relationships between DRtg and Pace:')\n",
    "print('Covariance:', Cov(df.DRtg, df.Pace))\n",
    "print(\"Pearson's Correlation:\", pearsonr(df.DRtg, df.Pace))\n",
    "print(\"Spearman's Rank Correlation:\", spearmanr(df.DRtg, df.Pace))"
   ]
  },
  {
   "cell_type": "code",
   "execution_count": 33,
   "metadata": {},
   "outputs": [
    {
     "data": {
      "image/png": "[encoded data removed]",
      "text/plain": [
       "<Figure size 720x720 with 1 Axes>"
      ]
     },
     "metadata": {
      "needs_background": "light"
     },
     "output_type": "display_data"
    },
    {
     "data": {
      "text/plain": [
       "<Figure size 576x432 with 0 Axes>"
      ]
     },
     "metadata": {},
     "output_type": "display_data"
    }
   ],
   "source": [
    "# Scatter Plot of DRtg and Wins\n",
    "thinkplot.Scatter(df.DRtg, df.Wins, alpha = .4)\n",
    "thinkplot.Show(xlabel='DRtg', ylabel='Wins')"
   ]
  },
  {
   "cell_type": "code",
   "execution_count": 34,
   "metadata": {},
   "outputs": [
    {
     "name": "stdout",
     "output_type": "stream",
     "text": [
      "Relationships between DRtg and Wins:\n",
      "Covariance: -24.163433333333334\n",
      "Pearson's Correlation: (-0.5736408815709826, 1.1979001487040022e-27)\n",
      "Spearman's Rank Correlation: SpearmanrResult(correlation=-0.5776458346690528, pvalue=4.2581362940641475e-28)\n"
     ]
    }
   ],
   "source": [
    "print('Relationships between DRtg and Wins:')\n",
    "print('Covariance:', Cov(df.DRtg, df.Wins))\n",
    "print(\"Pearson's Correlation:\", pearsonr(df.DRtg, df.Wins))\n",
    "print(\"Spearman's Rank Correlation:\", spearmanr(df.DRtg, df.Wins))"
   ]
  },
  {
   "cell_type": "code",
   "execution_count": 35,
   "metadata": {},
   "outputs": [
    {
     "data": {
      "image/png": "[encoded data removed]",
      "text/plain": [
       "<Figure size 720x720 with 1 Axes>"
      ]
     },
     "metadata": {
      "needs_background": "light"
     },
     "output_type": "display_data"
    },
    {
     "data": {
      "text/plain": [
       "<Figure size 576x432 with 0 Axes>"
      ]
     },
     "metadata": {},
     "output_type": "display_data"
    }
   ],
   "source": [
    "# Scatter Plot of ORtg and Wins\n",
    "thinkplot.Scatter(df.ORtg, df.Wins, alpha = .4)\n",
    "thinkplot.Show(xlabel='ORtg', ylabel='Wins')"
   ]
  },
  {
   "cell_type": "code",
   "execution_count": 36,
   "metadata": {},
   "outputs": [
    {
     "name": "stdout",
     "output_type": "stream",
     "text": [
      "Relationships between ORtg and Wins:\n",
      "Covariance: 34.20519\n",
      "Pearson's Correlation: (0.7437760106443292, 4.5533031562050703e-54)\n",
      "Spearman's Rank Correlation: SpearmanrResult(correlation=0.734694711333794, pvalue=3.797609273284383e-52)\n"
     ]
    }
   ],
   "source": [
    "print('Relationships between ORtg and Wins:')\n",
    "print('Covariance:', Cov(df.ORtg, df.Wins))\n",
    "print(\"Pearson's Correlation:\", pearsonr(df.ORtg, df.Wins))\n",
    "print(\"Spearman's Rank Correlation:\", spearmanr(df.ORtg, df.Wins))"
   ]
  },
  {
   "cell_type": "code",
   "execution_count": 37,
   "metadata": {},
   "outputs": [
    {
     "data": {
      "image/png": "[encoded data removed]",
      "text/plain": [
       "<Figure size 720x720 with 1 Axes>"
      ]
     },
     "metadata": {
      "needs_background": "light"
     },
     "output_type": "display_data"
    },
    {
     "data": {
      "text/plain": [
       "<Figure size 576x432 with 0 Axes>"
      ]
     },
     "metadata": {},
     "output_type": "display_data"
    }
   ],
   "source": [
    "# Scatter Plot of DRtg and SRS\n",
    "thinkplot.Scatter(df.DRtg, df.SRS, alpha = .4)\n",
    "thinkplot.Show(xlabel='DRtg', ylabel='SRS')"
   ]
  },
  {
   "cell_type": "code",
   "execution_count": 38,
   "metadata": {},
   "outputs": [
    {
     "name": "stdout",
     "output_type": "stream",
     "text": [
      "Relationships between DRtg and SRS:\n",
      "Covariance: -9.761219333333335\n",
      "Pearson's Correlation: (-0.6439654336617834, 1.5628855014065917e-36)\n",
      "Spearman's Rank Correlation: SpearmanrResult(correlation=-0.648368979761349, pvalue=3.6205293892514363e-37)\n"
     ]
    }
   ],
   "source": [
    "print('Relationships between DRtg and SRS:')\n",
    "print('Covariance:', Cov(df.DRtg, df.SRS))\n",
    "print(\"Pearson's Correlation:\", pearsonr(df.DRtg, df.SRS))\n",
    "print(\"Spearman's Rank Correlation:\", spearmanr(df.DRtg, df.SRS))"
   ]
  },
  {
   "cell_type": "markdown",
   "metadata": {},
   "source": [
    "## Hypothesis Testing  \n",
    "\n",
    "For hypothesis testing, two tests were executed on the data. The first, a permutation test on Champs_DRtg and Not_Champs_DRtg was ran. The results show p < .001 and can be concluded that the difference in DRtg is statistically significant.  \n",
    "\n",
    "For the second test, a correlation test between Wins and DRtg was executed. The computed p-value < 0.001 and after multiple iterations the actual correlation is approximately 0.573. The observed correlation is larger and statistically highly significant."
   ]
  },
  {
   "cell_type": "markdown",
   "metadata": {},
   "source": [
    "### Permutation Test"
   ]
  },
  {
   "cell_type": "code",
   "execution_count": 39,
   "metadata": {},
   "outputs": [],
   "source": [
    "# class and functions for the test\n",
    "class DiffMeansPermute(thinkstats2.HypothesisTest):\n",
    "    thinkstats2.RandomSeed(178)\n",
    "    def TestStatistic(self, data):\n",
    "        group1, group2 = data\n",
    "        test_stat = abs(group1.mean() - group2.mean())\n",
    "        return test_stat\n",
    "\n",
    "    def MakeModel(self):\n",
    "        group1, group2 = self.data\n",
    "        self.n, self.m = len(group1), len(group2)\n",
    "        self.pool = np.hstack((group1, group2))\n",
    "\n",
    "    def RunModel(self):\n",
    "        np.random.shuffle(self.pool)\n",
    "        data = self.pool[:self.n], self.pool[self.n:]\n",
    "        return data"
   ]
  },
  {
   "cell_type": "code",
   "execution_count": 40,
   "metadata": {},
   "outputs": [
    {
     "data": {
      "text/plain": [
       "0.001"
      ]
     },
     "execution_count": 40,
     "metadata": {},
     "output_type": "execute_result"
    }
   ],
   "source": [
    "# use Champs_DRtg and Not_Champs_DRtg values for data\n",
    "data = Champs_DRtg.values, Not_Champs_DRtg.values\n",
    "DiffMeans_ht = DiffMeansPermute(data)\n",
    "DiffMeans_pvalue = DiffMeans_ht.PValue()\n",
    "DiffMeans_pvalue"
   ]
  },
  {
   "cell_type": "code",
   "execution_count": 41,
   "metadata": {},
   "outputs": [
    {
     "data": {
      "image/png": "[encoded data removed]",
      "text/plain": [
       "<Figure size 720x720 with 1 Axes>"
      ]
     },
     "metadata": {
      "needs_background": "light"
     },
     "output_type": "display_data"
    },
    {
     "data": {
      "text/plain": [
       "<Figure size 576x432 with 0 Axes>"
      ]
     },
     "metadata": {},
     "output_type": "display_data"
    }
   ],
   "source": [
    "DiffMeans_ht.PlotCdf()\n",
    "thinkplot.Show(xlabel='test statistic', ylabel='CDF')"
   ]
  },
  {
   "cell_type": "markdown",
   "metadata": {},
   "source": [
    "### Correlation Test"
   ]
  },
  {
   "cell_type": "code",
   "execution_count": 42,
   "metadata": {},
   "outputs": [],
   "source": [
    "class CorrelationPermute(thinkstats2.HypothesisTest):\n",
    "    \n",
    "    def TestStatistic(self, data):\n",
    "        xs, ys = data\n",
    "        test_stat = abs(thinkstats2.Corr(xs, ys))\n",
    "        return test_stat\n",
    "\n",
    "    def RunModel(self):\n",
    "        xs, ys = self.data\n",
    "        xs = np.random.permutation(xs)\n",
    "        return xs, ys"
   ]
  },
  {
   "cell_type": "code",
   "execution_count": 43,
   "metadata": {},
   "outputs": [
    {
     "data": {
      "text/plain": [
       "0.0"
      ]
     },
     "execution_count": 43,
     "metadata": {},
     "output_type": "execute_result"
    }
   ],
   "source": [
    "data = df.Wins.values, df.DRtg.values\n",
    "Corr_ht = CorrelationPermute(data)\n",
    "Corr_pvalue = Corr_ht.PValue()\n",
    "Corr_pvalue"
   ]
  },
  {
   "cell_type": "code",
   "execution_count": 44,
   "metadata": {},
   "outputs": [
    {
     "data": {
      "text/plain": [
       "0.5736408815709826"
      ]
     },
     "execution_count": 44,
     "metadata": {},
     "output_type": "execute_result"
    }
   ],
   "source": [
    "Corr_ht.actual"
   ]
  },
  {
   "cell_type": "markdown",
   "metadata": {},
   "source": [
    "## Regression Analysis  \n",
    "\n",
    "Multiple logistic regression models were built and executed based on different dependent variables. The first model had Champion as the dependent variable with multiple explanatory variables (DRtg, SRS, Pace). For comparison, a second model had Champion as the dependent variable with multiple explanatory variables (ORtg, SRS, Pace). The results from these models delivered extremely high accuracy (DRtg - 96.7%, ORtg - 96.3%), so a second set of models were built with Playoffs as the dependent variable. Here the results returned (DRtg - 75.7%, ORtg - 73.3%).  \n",
    "\n",
    "To attempt to answer the question of defense equally championships, new predictions were made based off the following:  \n",
    "Defense = (Champs.DRtg.min(), Champs.SRS.max(), Champs.Pace.min())  \n",
    "Offense = (Champs.DRtg.max(), Champs.SRS.max(), Champs.Pace.max())  \n",
    "\n",
    "This would hypothetically create the best defensive metrics team from the Champion over the past ten (10) seasons, as well as the best offensive metrics team. The result show that these scenarios, while not head to head, predict the max defensive team to win the championship an estimated 70.21% and the max offensive team an estimated 68.10%."
   ]
  },
  {
   "cell_type": "code",
   "execution_count": 45,
   "metadata": {},
   "outputs": [
    {
     "name": "stdout",
     "output_type": "stream",
     "text": [
      "Optimization terminated successfully.\n",
      "         Current function value: 0.096384\n",
      "         Iterations 10\n"
     ]
    },
    {
     "data": {
      "text/html": [
       "<table class=\"simpletable\">\n",
       "<caption>Logit Regression Results</caption>\n",
       "<tr>\n",
       "  <th>Dep. Variable:</th>       <td>Champion</td>     <th>  No. Observations:  </th>  <td>   300</td>  \n",
       "</tr>\n",
       "<tr>\n",
       "  <th>Model:</th>                 <td>Logit</td>      <th>  Df Residuals:      </th>  <td>   296</td>  \n",
       "</tr>\n",
       "<tr>\n",
       "  <th>Method:</th>                 <td>MLE</td>       <th>  Df Model:          </th>  <td>     3</td>  \n",
       "</tr>\n",
       "<tr>\n",
       "  <th>Date:</th>            <td>Sat, 29 Feb 2020</td> <th>  Pseudo R-squ.:     </th>  <td>0.3405</td>  \n",
       "</tr>\n",
       "<tr>\n",
       "  <th>Time:</th>                <td>09:20:17</td>     <th>  Log-Likelihood:    </th> <td> -28.915</td> \n",
       "</tr>\n",
       "<tr>\n",
       "  <th>converged:</th>             <td>True</td>       <th>  LL-Null:           </th> <td> -43.843</td> \n",
       "</tr>\n",
       "<tr>\n",
       "  <th>Covariance Type:</th>     <td>nonrobust</td>    <th>  LLR p-value:       </th> <td>1.479e-06</td>\n",
       "</tr>\n",
       "</table>\n",
       "<table class=\"simpletable\">\n",
       "<tr>\n",
       "      <td></td>         <th>coef</th>     <th>std err</th>      <th>z</th>      <th>P>|z|</th>  <th>[0.025</th>    <th>0.975]</th>  \n",
       "</tr>\n",
       "<tr>\n",
       "  <th>Intercept</th> <td>   -3.9451</td> <td>   15.617</td> <td>   -0.253</td> <td> 0.801</td> <td>  -34.553</td> <td>   26.663</td>\n",
       "</tr>\n",
       "<tr>\n",
       "  <th>DRtg</th>      <td>   -0.0070</td> <td>    0.189</td> <td>   -0.037</td> <td> 0.970</td> <td>   -0.377</td> <td>    0.363</td>\n",
       "</tr>\n",
       "<tr>\n",
       "  <th>SRS</th>       <td>    0.5515</td> <td>    0.180</td> <td>    3.069</td> <td> 0.002</td> <td>    0.199</td> <td>    0.904</td>\n",
       "</tr>\n",
       "<tr>\n",
       "  <th>Pace</th>      <td>   -0.0083</td> <td>    0.140</td> <td>   -0.059</td> <td> 0.953</td> <td>   -0.282</td> <td>    0.266</td>\n",
       "</tr>\n",
       "</table>"
      ],
      "text/plain": [
       "<class 'statsmodels.iolib.summary.Summary'>\n",
       "\"\"\"\n",
       "                           Logit Regression Results                           \n",
       "==============================================================================\n",
       "Dep. Variable:               Champion   No. Observations:                  300\n",
       "Model:                          Logit   Df Residuals:                      296\n",
       "Method:                           MLE   Df Model:                            3\n",
       "Date:                Sat, 29 Feb 2020   Pseudo R-squ.:                  0.3405\n",
       "Time:                        09:20:17   Log-Likelihood:                -28.915\n",
       "converged:                       True   LL-Null:                       -43.843\n",
       "Covariance Type:            nonrobust   LLR p-value:                 1.479e-06\n",
       "==============================================================================\n",
       "                 coef    std err          z      P>|z|      [0.025      0.975]\n",
       "------------------------------------------------------------------------------\n",
       "Intercept     -3.9451     15.617     -0.253      0.801     -34.553      26.663\n",
       "DRtg          -0.0070      0.189     -0.037      0.970      -0.377       0.363\n",
       "SRS            0.5515      0.180      3.069      0.002       0.199       0.904\n",
       "Pace          -0.0083      0.140     -0.059      0.953      -0.282       0.266\n",
       "==============================================================================\n",
       "\"\"\""
      ]
     },
     "execution_count": 45,
     "metadata": {},
     "output_type": "execute_result"
    }
   ],
   "source": [
    "# DRtg logistic regression model, Champion dependent\n",
    "model_dc = smf.logit('Champion ~ DRtg + SRS + Pace', data=df)\n",
    "results_dc = model_dc.fit()\n",
    "results_dc.summary()"
   ]
  },
  {
   "cell_type": "code",
   "execution_count": 46,
   "metadata": {},
   "outputs": [
    {
     "name": "stdout",
     "output_type": "stream",
     "text": [
      "baseline of model_dc: 3.3333 %\n",
      "accuracy of the model_dc: 96.6667 %\n"
     ]
    }
   ],
   "source": [
    "# determine the accuracy of the DRtg model to baseline of guessing Champion everytime\n",
    "endog = pd.DataFrame(model_dc.endog, columns=[model_dc.endog_names])\n",
    "\n",
    "actual = endog['Champion']\n",
    "baseline = actual.mean()\n",
    "print('baseline of model_dc:', round((baseline * 100),4), '%')\n",
    "\n",
    "predict = (results_dc.predict() >= 0.5)\n",
    "true_pos = predict * actual\n",
    "true_neg = (1 - predict) * (1 - actual)\n",
    "\n",
    "acc_dc = round(((sum(true_pos) + sum(true_neg)) / len(actual)) *100,4)\n",
    "\n",
    "print('accuracy of the model_dc:', acc_dc, '%')"
   ]
  },
  {
   "cell_type": "code",
   "execution_count": 47,
   "metadata": {},
   "outputs": [
    {
     "name": "stdout",
     "output_type": "stream",
     "text": [
      "Optimization terminated successfully.\n",
      "         Current function value: 0.096374\n",
      "         Iterations 10\n"
     ]
    },
    {
     "data": {
      "text/html": [
       "<table class=\"simpletable\">\n",
       "<caption>Logit Regression Results</caption>\n",
       "<tr>\n",
       "  <th>Dep. Variable:</th>       <td>Champion</td>     <th>  No. Observations:  </th>  <td>   300</td>  \n",
       "</tr>\n",
       "<tr>\n",
       "  <th>Model:</th>                 <td>Logit</td>      <th>  Df Residuals:      </th>  <td>   296</td>  \n",
       "</tr>\n",
       "<tr>\n",
       "  <th>Method:</th>                 <td>MLE</td>       <th>  Df Model:          </th>  <td>     3</td>  \n",
       "</tr>\n",
       "<tr>\n",
       "  <th>Date:</th>            <td>Sat, 29 Feb 2020</td> <th>  Pseudo R-squ.:     </th>  <td>0.3406</td>  \n",
       "</tr>\n",
       "<tr>\n",
       "  <th>Time:</th>                <td>09:20:17</td>     <th>  Log-Likelihood:    </th> <td> -28.912</td> \n",
       "</tr>\n",
       "<tr>\n",
       "  <th>converged:</th>             <td>True</td>       <th>  LL-Null:           </th> <td> -43.843</td> \n",
       "</tr>\n",
       "<tr>\n",
       "  <th>Covariance Type:</th>     <td>nonrobust</td>    <th>  LLR p-value:       </th> <td>1.475e-06</td>\n",
       "</tr>\n",
       "</table>\n",
       "<table class=\"simpletable\">\n",
       "<tr>\n",
       "      <td></td>         <th>coef</th>     <th>std err</th>      <th>z</th>      <th>P>|z|</th>  <th>[0.025</th>    <th>0.975]</th>  \n",
       "</tr>\n",
       "<tr>\n",
       "  <th>Intercept</th> <td>   -5.5622</td> <td>   16.926</td> <td>   -0.329</td> <td> 0.742</td> <td>  -38.737</td> <td>   27.613</td>\n",
       "</tr>\n",
       "<tr>\n",
       "  <th>ORtg</th>      <td>    0.0165</td> <td>    0.191</td> <td>    0.086</td> <td> 0.931</td> <td>   -0.358</td> <td>    0.391</td>\n",
       "</tr>\n",
       "<tr>\n",
       "  <th>SRS</th>       <td>    0.5482</td> <td>    0.164</td> <td>    3.336</td> <td> 0.001</td> <td>    0.226</td> <td>    0.870</td>\n",
       "</tr>\n",
       "<tr>\n",
       "  <th>Pace</th>      <td>   -0.0180</td> <td>    0.131</td> <td>   -0.138</td> <td> 0.891</td> <td>   -0.275</td> <td>    0.239</td>\n",
       "</tr>\n",
       "</table>"
      ],
      "text/plain": [
       "<class 'statsmodels.iolib.summary.Summary'>\n",
       "\"\"\"\n",
       "                           Logit Regression Results                           \n",
       "==============================================================================\n",
       "Dep. Variable:               Champion   No. Observations:                  300\n",
       "Model:                          Logit   Df Residuals:                      296\n",
       "Method:                           MLE   Df Model:                            3\n",
       "Date:                Sat, 29 Feb 2020   Pseudo R-squ.:                  0.3406\n",
       "Time:                        09:20:17   Log-Likelihood:                -28.912\n",
       "converged:                       True   LL-Null:                       -43.843\n",
       "Covariance Type:            nonrobust   LLR p-value:                 1.475e-06\n",
       "==============================================================================\n",
       "                 coef    std err          z      P>|z|      [0.025      0.975]\n",
       "------------------------------------------------------------------------------\n",
       "Intercept     -5.5622     16.926     -0.329      0.742     -38.737      27.613\n",
       "ORtg           0.0165      0.191      0.086      0.931      -0.358       0.391\n",
       "SRS            0.5482      0.164      3.336      0.001       0.226       0.870\n",
       "Pace          -0.0180      0.131     -0.138      0.891      -0.275       0.239\n",
       "==============================================================================\n",
       "\"\"\""
      ]
     },
     "execution_count": 47,
     "metadata": {},
     "output_type": "execute_result"
    }
   ],
   "source": [
    "# ORtg model for comparison, Champion dependent\n",
    "model_oc = smf.logit('Champion ~ ORtg + SRS + Pace', data=df)\n",
    "results_oc = model_oc.fit()\n",
    "results_oc.summary()"
   ]
  },
  {
   "cell_type": "code",
   "execution_count": 48,
   "metadata": {},
   "outputs": [
    {
     "name": "stdout",
     "output_type": "stream",
     "text": [
      "baseline of model_oc: 3.3333 %\n",
      "accuracy of the model_oc: 96.3333 %\n"
     ]
    }
   ],
   "source": [
    "# determine the accuracy of the ORtg model to baseline of guessing Champion everytime\n",
    "endog = pd.DataFrame(model_oc.endog, columns=[model_oc.endog_names])\n",
    "\n",
    "actual = endog['Champion']\n",
    "baseline = actual.mean()\n",
    "print('baseline of model_oc:', round((baseline * 100),4), '%')\n",
    "\n",
    "predict = (results_oc.predict() >= 0.5)\n",
    "true_pos = predict * actual\n",
    "true_neg = (1 - predict) * (1 - actual)\n",
    "\n",
    "acc_oc = round(((sum(true_pos) + sum(true_neg)) / len(actual)) *100,4)\n",
    "\n",
    "print('accuracy of the model_oc:', acc_oc, '%')"
   ]
  },
  {
   "cell_type": "code",
   "execution_count": 49,
   "metadata": {},
   "outputs": [
    {
     "name": "stdout",
     "output_type": "stream",
     "text": [
      "0.3334 %\n"
     ]
    }
   ],
   "source": [
    "# difference in DRtg vs ORtg in predicting the champion\n",
    "print(round(acc_dc - acc_oc, 4), '%')"
   ]
  },
  {
   "cell_type": "code",
   "execution_count": 50,
   "metadata": {},
   "outputs": [
    {
     "name": "stdout",
     "output_type": "stream",
     "text": [
      "Optimization terminated successfully.\n",
      "         Current function value: 0.493638\n",
      "         Iterations 6\n"
     ]
    },
    {
     "data": {
      "text/html": [
       "<table class=\"simpletable\">\n",
       "<caption>Logit Regression Results</caption>\n",
       "<tr>\n",
       "  <th>Dep. Variable:</th>       <td>Playoffs</td>     <th>  No. Observations:  </th>  <td>   300</td>  \n",
       "</tr>\n",
       "<tr>\n",
       "  <th>Model:</th>                 <td>Logit</td>      <th>  Df Residuals:      </th>  <td>   298</td>  \n",
       "</tr>\n",
       "<tr>\n",
       "  <th>Method:</th>                 <td>MLE</td>       <th>  Df Model:          </th>  <td>     1</td>  \n",
       "</tr>\n",
       "<tr>\n",
       "  <th>Date:</th>            <td>Sat, 29 Feb 2020</td> <th>  Pseudo R-squ.:     </th>  <td>0.2845</td>  \n",
       "</tr>\n",
       "<tr>\n",
       "  <th>Time:</th>                <td>09:20:18</td>     <th>  Log-Likelihood:    </th> <td> -148.09</td> \n",
       "</tr>\n",
       "<tr>\n",
       "  <th>converged:</th>             <td>True</td>       <th>  LL-Null:           </th> <td> -206.98</td> \n",
       "</tr>\n",
       "<tr>\n",
       "  <th>Covariance Type:</th>     <td>nonrobust</td>    <th>  LLR p-value:       </th> <td>1.934e-27</td>\n",
       "</tr>\n",
       "</table>\n",
       "<table class=\"simpletable\">\n",
       "<tr>\n",
       "      <td></td>         <th>coef</th>     <th>std err</th>      <th>z</th>      <th>P>|z|</th>  <th>[0.025</th>    <th>0.975]</th>  \n",
       "</tr>\n",
       "<tr>\n",
       "  <th>Intercept</th> <td>   54.3451</td> <td>    6.428</td> <td>    8.454</td> <td> 0.000</td> <td>   41.745</td> <td>   66.945</td>\n",
       "</tr>\n",
       "<tr>\n",
       "  <th>DRtg</th>      <td>   -0.5046</td> <td>    0.060</td> <td>   -8.443</td> <td> 0.000</td> <td>   -0.622</td> <td>   -0.387</td>\n",
       "</tr>\n",
       "</table>"
      ],
      "text/plain": [
       "<class 'statsmodels.iolib.summary.Summary'>\n",
       "\"\"\"\n",
       "                           Logit Regression Results                           \n",
       "==============================================================================\n",
       "Dep. Variable:               Playoffs   No. Observations:                  300\n",
       "Model:                          Logit   Df Residuals:                      298\n",
       "Method:                           MLE   Df Model:                            1\n",
       "Date:                Sat, 29 Feb 2020   Pseudo R-squ.:                  0.2845\n",
       "Time:                        09:20:18   Log-Likelihood:                -148.09\n",
       "converged:                       True   LL-Null:                       -206.98\n",
       "Covariance Type:            nonrobust   LLR p-value:                 1.934e-27\n",
       "==============================================================================\n",
       "                 coef    std err          z      P>|z|      [0.025      0.975]\n",
       "------------------------------------------------------------------------------\n",
       "Intercept     54.3451      6.428      8.454      0.000      41.745      66.945\n",
       "DRtg          -0.5046      0.060     -8.443      0.000      -0.622      -0.387\n",
       "==============================================================================\n",
       "\"\"\""
      ]
     },
     "execution_count": 50,
     "metadata": {},
     "output_type": "execute_result"
    }
   ],
   "source": [
    "# DRtg logistic regression model, Playoffs dependent\n",
    "model_dp = smf.logit('Playoffs ~ DRtg', data=df)\n",
    "results_dp = model_dp.fit()\n",
    "results_dp.summary()"
   ]
  },
  {
   "cell_type": "code",
   "execution_count": 51,
   "metadata": {},
   "outputs": [
    {
     "name": "stdout",
     "output_type": "stream",
     "text": [
      "Optimization terminated successfully.\n",
      "         Current function value: 0.541136\n",
      "         Iterations 6\n"
     ]
    },
    {
     "data": {
      "text/html": [
       "<table class=\"simpletable\">\n",
       "<caption>Logit Regression Results</caption>\n",
       "<tr>\n",
       "  <th>Dep. Variable:</th>       <td>Playoffs</td>     <th>  No. Observations:  </th>  <td>   300</td>  \n",
       "</tr>\n",
       "<tr>\n",
       "  <th>Model:</th>                 <td>Logit</td>      <th>  Df Residuals:      </th>  <td>   298</td>  \n",
       "</tr>\n",
       "<tr>\n",
       "  <th>Method:</th>                 <td>MLE</td>       <th>  Df Model:          </th>  <td>     1</td>  \n",
       "</tr>\n",
       "<tr>\n",
       "  <th>Date:</th>            <td>Sat, 29 Feb 2020</td> <th>  Pseudo R-squ.:     </th>  <td>0.2157</td>  \n",
       "</tr>\n",
       "<tr>\n",
       "  <th>Time:</th>                <td>09:20:18</td>     <th>  Log-Likelihood:    </th> <td> -162.34</td> \n",
       "</tr>\n",
       "<tr>\n",
       "  <th>converged:</th>             <td>True</td>       <th>  LL-Null:           </th> <td> -206.98</td> \n",
       "</tr>\n",
       "<tr>\n",
       "  <th>Covariance Type:</th>     <td>nonrobust</td>    <th>  LLR p-value:       </th> <td>3.419e-21</td>\n",
       "</tr>\n",
       "</table>\n",
       "<table class=\"simpletable\">\n",
       "<tr>\n",
       "      <td></td>         <th>coef</th>     <th>std err</th>      <th>z</th>      <th>P>|z|</th>  <th>[0.025</th>    <th>0.975]</th>  \n",
       "</tr>\n",
       "<tr>\n",
       "  <th>Intercept</th> <td>  -39.8834</td> <td>    5.150</td> <td>   -7.744</td> <td> 0.000</td> <td>  -49.978</td> <td>  -29.789</td>\n",
       "</tr>\n",
       "<tr>\n",
       "  <th>ORtg</th>      <td>    0.3742</td> <td>    0.048</td> <td>    7.766</td> <td> 0.000</td> <td>    0.280</td> <td>    0.469</td>\n",
       "</tr>\n",
       "</table>"
      ],
      "text/plain": [
       "<class 'statsmodels.iolib.summary.Summary'>\n",
       "\"\"\"\n",
       "                           Logit Regression Results                           \n",
       "==============================================================================\n",
       "Dep. Variable:               Playoffs   No. Observations:                  300\n",
       "Model:                          Logit   Df Residuals:                      298\n",
       "Method:                           MLE   Df Model:                            1\n",
       "Date:                Sat, 29 Feb 2020   Pseudo R-squ.:                  0.2157\n",
       "Time:                        09:20:18   Log-Likelihood:                -162.34\n",
       "converged:                       True   LL-Null:                       -206.98\n",
       "Covariance Type:            nonrobust   LLR p-value:                 3.419e-21\n",
       "==============================================================================\n",
       "                 coef    std err          z      P>|z|      [0.025      0.975]\n",
       "------------------------------------------------------------------------------\n",
       "Intercept    -39.8834      5.150     -7.744      0.000     -49.978     -29.789\n",
       "ORtg           0.3742      0.048      7.766      0.000       0.280       0.469\n",
       "==============================================================================\n",
       "\"\"\""
      ]
     },
     "execution_count": 51,
     "metadata": {},
     "output_type": "execute_result"
    }
   ],
   "source": [
    "# ORtg logistic regression model, Playoffs dependent\n",
    "model_op = smf.logit('Playoffs ~ ORtg', data=df)\n",
    "results_op = model_op.fit()\n",
    "results_op.summary()"
   ]
  },
  {
   "cell_type": "code",
   "execution_count": 52,
   "metadata": {},
   "outputs": [
    {
     "name": "stdout",
     "output_type": "stream",
     "text": [
      "baseline of model_dp: 54.0 %\n",
      "accuracy of model_dp: 75.6667 %\n"
     ]
    }
   ],
   "source": [
    "# determine the accuracy of the DRtg model to baseline of guessing Playoffs everytime\n",
    "endog = pd.DataFrame(model_dp.endog, columns=[model_dp.endog_names])\n",
    "\n",
    "actual = endog['Playoffs']\n",
    "baseline = actual.mean()\n",
    "print('baseline of model_dp:', round((baseline * 100),4), '%')\n",
    "\n",
    "predict = (results_dp.predict() >= 0.5)\n",
    "true_pos = predict * actual\n",
    "true_neg = (1 - predict) * (1 - actual)\n",
    "\n",
    "acc_dp = round(((sum(true_pos) + sum(true_neg)) / len(actual)) *100,4)\n",
    "\n",
    "print('accuracy of model_dp:', acc_dp, '%')"
   ]
  },
  {
   "cell_type": "code",
   "execution_count": 53,
   "metadata": {},
   "outputs": [
    {
     "name": "stdout",
     "output_type": "stream",
     "text": [
      "baseline of model_op: 54.0 %\n",
      "accuracy of model_dp: 73.6667 %\n"
     ]
    }
   ],
   "source": [
    "# determine the accuracy of the DRtg model to baseline of guessing Playoffs everytime\n",
    "endog = pd.DataFrame(model_op.endog, columns=[model_op.endog_names])\n",
    "\n",
    "actual = endog['Playoffs']\n",
    "baseline = actual.mean()\n",
    "print('baseline of model_op:', round((baseline * 100),4), '%')\n",
    "\n",
    "predict = (results_op.predict() >= 0.5)\n",
    "true_pos = predict * actual\n",
    "true_neg = (1 - predict) * (1 - actual)\n",
    "\n",
    "acc_op = round(((sum(true_pos) + sum(true_neg)) / len(actual)) *100,4)\n",
    "\n",
    "print('accuracy of model_dp:', acc_op, '%')"
   ]
  },
  {
   "cell_type": "code",
   "execution_count": 54,
   "metadata": {},
   "outputs": [
    {
     "name": "stdout",
     "output_type": "stream",
     "text": [
      "2.0 %\n"
     ]
    }
   ],
   "source": [
    "# difference in DRtg vs ORtg in predicting playoff teams\n",
    "print(round(acc_dp - acc_op, 4), '%')"
   ]
  },
  {
   "cell_type": "code",
   "execution_count": 55,
   "metadata": {},
   "outputs": [
    {
     "data": {
      "text/plain": [
       "0    70.209862\n",
       "dtype: float64"
      ]
     },
     "execution_count": 55,
     "metadata": {},
     "output_type": "execute_result"
    }
   ],
   "source": [
    "# prediction for team with the best ratings of Champs over the past 10 seasons (defense focus)\n",
    "columns_d = ['DRtg', 'SRS', 'Pace']\n",
    "def_champ = pd.DataFrame([[Champs.DRtg.min(), Champs.SRS.max(), Champs.Pace.min()]], columns=columns_d)\n",
    "def_champ_percent_to_win = results_dc.predict(def_champ) * 100\n",
    "def_champ_percent_to_win"
   ]
  },
  {
   "cell_type": "code",
   "execution_count": 56,
   "metadata": {},
   "outputs": [
    {
     "data": {
      "text/plain": [
       "0    68.103462\n",
       "dtype: float64"
      ]
     },
     "execution_count": 56,
     "metadata": {},
     "output_type": "execute_result"
    }
   ],
   "source": [
    "# prediction for team with the best ratings of Champs over the past 10 seasons (offense focus)\n",
    "columns_o = ['ORtg', 'SRS', 'Pace',]\n",
    "off_champ = pd.DataFrame([[Champs.ORtg.max(), Champs.SRS.max(), Champs.Pace.max()]], columns=columns_o)\n",
    "off_champ_percent_to_win = results_oc.predict(off_champ) * 100\n",
    "off_champ_percent_to_win"
   ]
  }
 ],
 "metadata": {
  "kernelspec": {
   "display_name": "Python 3",
   "language": "python",
   "name": "python3"
  },
  "language_info": {
   "codemirror_mode": {
    "name": "ipython",
    "version": 3
   },
   "file_extension": ".py",
   "mimetype": "text/x-python",
   "name": "python",
   "nbconvert_exporter": "python",
   "pygments_lexer": "ipython3",
   "version": "3.7.4"
  }
 },
 "nbformat": 4,
 "nbformat_minor": 2
}
